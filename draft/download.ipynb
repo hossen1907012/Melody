{
 "cells": [
  {
   "cell_type": "code",
   "execution_count": 42,
   "id": "628ac804-6e32-4604-85f6-c54beb386a26",
   "metadata": {},
   "outputs": [],
   "source": [
    "from pytube import YouTube\n",
    "from pydub import AudioSegment\n",
    "import os, uuid\n",
    "\n",
    "\n",
    "class MusicDownloader:\n",
    "    def download_youtube_video(self, url, output_path):\n",
    "        try:\n",
    "            yt = YouTube(url)\n",
    "\n",
    "            video_stream = yt.streams.filter(file_extension='mp4').first()\n",
    "\n",
    "            random_filename = str(str(uuid.uuid4()).split(\"-\")[0])\n",
    "            video_filename = f\"{random_filename}.mp4\"\n",
    "            video_stream.download(output_path, filename=video_filename)\n",
    "\n",
    "            print(f\"Video downloaded successfully to: {output_path}/{video_filename}\")\n",
    "\n",
    "            return video_filename\n",
    "\n",
    "        except Exception as e:\n",
    "            print(f\"Error from download_youtube_video: {e}\")\n",
    "\n",
    "    def convert_video_to_wav(self, input_file, output_file, channels=1):\n",
    "        print(input_file)\n",
    "        audio = AudioSegment.from_file(input_file, format='mp4')\n",
    "        print(audio)\n",
    "        audio = audio.set_channels(channels)\n",
    "        audio.export(output_file, format=\"wav\")\n",
    "\n",
    "        print(f\"Audio converted to: {output_file}\")\n",
    "    def remove_video(self, video_file):\n",
    "        try:\n",
    "            os.remove(video_file)\n",
    "            print(f\"Original video file removed: {video_file}\")\n",
    "        except Exception as e:\n",
    "            print(f\"Error from remove_video: {e}\")\n",
    "\n",
    "    def download_and_convert(self, video_url):\n",
    "        video_url = video_url\n",
    "        temporary_directory = \"tmp\"\n",
    "        audio_output_directory = \"audio\"\n",
    "\n",
    "        video_file = self.download_youtube_video(video_url, temporary_directory)\n",
    "        video_file_path = f\"{video_file}\"\n",
    "\n",
    "        output_wav_file = f\"{audio_output_directory}/{video_file.replace('.mp4', '.wav')}\"\n",
    "        self.convert_video_to_wav(video_file_path, output_wav_file, channels=1)\n",
    "        self.remove_video(video_file_path)\n"
   ]
  },
  {
   "cell_type": "code",
   "execution_count": 43,
   "id": "c8787bde-f760-41b2-9a6d-c702b14b8581",
   "metadata": {},
   "outputs": [],
   "source": [
    "downloader = MusicDownloader()"
   ]
  },
  {
   "cell_type": "code",
   "execution_count": null,
   "id": "ecf89569-a8b3-42ce-a1f5-6030d5234776",
   "metadata": {},
   "outputs": [],
   "source": [
    "downloader.download_and_convert(\"https://youtu.be/svJ_Hnm0vZo\")"
   ]
  },
  {
   "cell_type": "code",
   "execution_count": null,
   "id": "2d879573-2f5a-422f-80cf-b0552166d496",
   "metadata": {},
   "outputs": [],
   "source": []
  }
 ],
 "metadata": {
  "kernelspec": {
   "display_name": "Python 3 (ipykernel)",
   "language": "python",
   "name": "python3"
  },
  "language_info": {
   "codemirror_mode": {
    "name": "ipython",
    "version": 3
   },
   "file_extension": ".py",
   "mimetype": "text/x-python",
   "name": "python",
   "nbconvert_exporter": "python",
   "pygments_lexer": "ipython3",
   "version": "3.11.6"
  }
 },
 "nbformat": 4,
 "nbformat_minor": 5
}
